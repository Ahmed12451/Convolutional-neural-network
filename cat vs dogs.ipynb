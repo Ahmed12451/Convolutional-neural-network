{
 "cells": [
  {
   "cell_type": "code",
   "execution_count": 1,
   "metadata": {},
   "outputs": [],
   "source": [
    "import os, shutil"
   ]
  },
  {
   "cell_type": "code",
   "execution_count": 2,
   "metadata": {},
   "outputs": [],
   "source": [
    "original_dataset_dir = 'D:\\CCnnn'"
   ]
  },
  {
   "cell_type": "code",
   "execution_count": 3,
   "metadata": {},
   "outputs": [
    {
     "ename": "FileExistsError",
     "evalue": "[WinError 183] Cannot create a file when that file already exists: 'D:\\\\CCnnn\\\\cat_dog'",
     "output_type": "error",
     "traceback": [
      "\u001b[1;31m---------------------------------------------------------------------------\u001b[0m",
      "\u001b[1;31mFileExistsError\u001b[0m                           Traceback (most recent call last)",
      "\u001b[1;32m<ipython-input-3-0fb983802cda>\u001b[0m in \u001b[0;36m<module>\u001b[1;34m\u001b[0m\n\u001b[0;32m      1\u001b[0m \u001b[0mbase_dir\u001b[0m \u001b[1;33m=\u001b[0m \u001b[1;34m'D:\\CCnnn\\cat_dog'\u001b[0m\u001b[1;33m\u001b[0m\u001b[0m\n\u001b[1;32m----> 2\u001b[1;33m \u001b[0mos\u001b[0m\u001b[1;33m.\u001b[0m\u001b[0mmkdir\u001b[0m\u001b[1;33m(\u001b[0m\u001b[0mbase_dir\u001b[0m\u001b[1;33m)\u001b[0m\u001b[1;33m\u001b[0m\u001b[0m\n\u001b[0m",
      "\u001b[1;31mFileExistsError\u001b[0m: [WinError 183] Cannot create a file when that file already exists: 'D:\\\\CCnnn\\\\cat_dog'"
     ]
    }
   ],
   "source": [
    "base_dir = 'D:\\CCnnn\\cat_dog'\n",
    "os.mkdir(base_dir)"
   ]
  },
  {
   "cell_type": "code",
   "execution_count": 4,
   "metadata": {},
   "outputs": [
    {
     "ename": "FileExistsError",
     "evalue": "[WinError 183] Cannot create a file when that file already exists: 'D:\\\\CCnnn\\\\cat_dog\\\\train'",
     "output_type": "error",
     "traceback": [
      "\u001b[1;31m---------------------------------------------------------------------------\u001b[0m",
      "\u001b[1;31mFileExistsError\u001b[0m                           Traceback (most recent call last)",
      "\u001b[1;32m<ipython-input-4-81a42df739e8>\u001b[0m in \u001b[0;36m<module>\u001b[1;34m\u001b[0m\n\u001b[0;32m      1\u001b[0m \u001b[0mtrain_dir\u001b[0m \u001b[1;33m=\u001b[0m \u001b[0mos\u001b[0m\u001b[1;33m.\u001b[0m\u001b[0mpath\u001b[0m\u001b[1;33m.\u001b[0m\u001b[0mjoin\u001b[0m\u001b[1;33m(\u001b[0m\u001b[0mbase_dir\u001b[0m\u001b[1;33m,\u001b[0m \u001b[1;34m'train'\u001b[0m\u001b[1;33m)\u001b[0m\u001b[1;33m\u001b[0m\u001b[0m\n\u001b[1;32m----> 2\u001b[1;33m \u001b[0mos\u001b[0m\u001b[1;33m.\u001b[0m\u001b[0mmkdir\u001b[0m\u001b[1;33m(\u001b[0m\u001b[0mtrain_dir\u001b[0m\u001b[1;33m)\u001b[0m\u001b[1;33m\u001b[0m\u001b[0m\n\u001b[0m",
      "\u001b[1;31mFileExistsError\u001b[0m: [WinError 183] Cannot create a file when that file already exists: 'D:\\\\CCnnn\\\\cat_dog\\\\train'"
     ]
    }
   ],
   "source": [
    "train_dir = os.path.join(base_dir, 'train')\n",
    "os.mkdir(train_dir)"
   ]
  },
  {
   "cell_type": "code",
   "execution_count": 5,
   "metadata": {},
   "outputs": [
    {
     "ename": "FileExistsError",
     "evalue": "[WinError 183] Cannot create a file when that file already exists: 'D:\\\\CCnnn\\\\cat_dog\\\\validation'",
     "output_type": "error",
     "traceback": [
      "\u001b[1;31m---------------------------------------------------------------------------\u001b[0m",
      "\u001b[1;31mFileExistsError\u001b[0m                           Traceback (most recent call last)",
      "\u001b[1;32m<ipython-input-5-8a23862371ac>\u001b[0m in \u001b[0;36m<module>\u001b[1;34m\u001b[0m\n\u001b[0;32m      1\u001b[0m \u001b[0mvalidation_dir\u001b[0m \u001b[1;33m=\u001b[0m \u001b[0mos\u001b[0m\u001b[1;33m.\u001b[0m\u001b[0mpath\u001b[0m\u001b[1;33m.\u001b[0m\u001b[0mjoin\u001b[0m\u001b[1;33m(\u001b[0m\u001b[0mbase_dir\u001b[0m\u001b[1;33m,\u001b[0m \u001b[1;34m'validation'\u001b[0m\u001b[1;33m)\u001b[0m\u001b[1;33m\u001b[0m\u001b[0m\n\u001b[1;32m----> 2\u001b[1;33m \u001b[0mos\u001b[0m\u001b[1;33m.\u001b[0m\u001b[0mmkdir\u001b[0m\u001b[1;33m(\u001b[0m\u001b[0mvalidation_dir\u001b[0m\u001b[1;33m)\u001b[0m\u001b[1;33m\u001b[0m\u001b[0m\n\u001b[0m\u001b[0;32m      3\u001b[0m \u001b[0mtest_dir\u001b[0m \u001b[1;33m=\u001b[0m \u001b[0mos\u001b[0m\u001b[1;33m.\u001b[0m\u001b[0mpath\u001b[0m\u001b[1;33m.\u001b[0m\u001b[0mjoin\u001b[0m\u001b[1;33m(\u001b[0m\u001b[0mbase_dir\u001b[0m\u001b[1;33m,\u001b[0m \u001b[1;34m'test'\u001b[0m\u001b[1;33m)\u001b[0m\u001b[1;33m\u001b[0m\u001b[0m\n\u001b[0;32m      4\u001b[0m \u001b[0mos\u001b[0m\u001b[1;33m.\u001b[0m\u001b[0mmkdir\u001b[0m\u001b[1;33m(\u001b[0m\u001b[0mtest_dir\u001b[0m\u001b[1;33m)\u001b[0m\u001b[1;33m\u001b[0m\u001b[0m\n\u001b[0;32m      5\u001b[0m \u001b[0mtrain_cats_dir\u001b[0m \u001b[1;33m=\u001b[0m \u001b[0mos\u001b[0m\u001b[1;33m.\u001b[0m\u001b[0mpath\u001b[0m\u001b[1;33m.\u001b[0m\u001b[0mjoin\u001b[0m\u001b[1;33m(\u001b[0m\u001b[0mtrain_dir\u001b[0m\u001b[1;33m,\u001b[0m \u001b[1;34m'cats'\u001b[0m\u001b[1;33m)\u001b[0m\u001b[1;33m\u001b[0m\u001b[0m\n",
      "\u001b[1;31mFileExistsError\u001b[0m: [WinError 183] Cannot create a file when that file already exists: 'D:\\\\CCnnn\\\\cat_dog\\\\validation'"
     ]
    }
   ],
   "source": [
    "validation_dir = os.path.join(base_dir, 'validation')\n",
    "os.mkdir(validation_dir)\n",
    "test_dir = os.path.join(base_dir, 'test')\n",
    "os.mkdir(test_dir)\n",
    "train_cats_dir = os.path.join(train_dir, 'cats')\n",
    "os.mkdir(train_cats_dir)\n",
    "train_dogs_dir = os.path.join(train_dir, 'dogs')\n",
    "os.mkdir(train_dogs_dir)\n",
    "validation_cats_dir = os.path.join(validation_dir, 'cats')\n",
    "os.mkdir(validation_cats_dir)\n",
    "validation_dogs_dir = os.path.join(validation_dir, 'dogs')\n",
    "os.mkdir(validation_dogs_dir)\n",
    "test_cats_dir = os.path.join(test_dir, 'cats')\n",
    "os.mkdir(test_cats_dir)\n",
    "test_dogs_dir = os.path.join(test_dir, 'dogs')\n",
    "os.mkdir(test_dogs_dir)"
   ]
  },
  {
   "cell_type": "code",
   "execution_count": 6,
   "metadata": {},
   "outputs": [
    {
     "name": "stderr",
     "output_type": "stream",
     "text": [
      "Using TensorFlow backend.\n"
     ]
    }
   ],
   "source": [
    "from keras import layers\n",
    "from keras import models\n",
    "model = models.Sequential()\n",
    "model.add(layers.Conv2D(32, (3, 3), activation='relu',\n",
    "input_shape=(150, 150, 3)))\n",
    "model.add(layers.MaxPooling2D((2, 2)))\n",
    "model.add(layers.Conv2D(64, (3, 3), activation='relu'))\n",
    "model.add(layers.MaxPooling2D((2, 2)))\n",
    "model.add(layers.Conv2D(128, (3, 3), activation='relu'))\n",
    "model.add(layers.MaxPooling2D((2, 2)))\n",
    "model.add(layers.Conv2D(128, (3, 3), activation='relu'))\n",
    "model.add(layers.MaxPooling2D((2, 2)))\n",
    "model.add(layers.Flatten())\n",
    "model.add(layers.Dense(512, activation='relu'))\n",
    "model.add(layers.Dense(1, activation='sigmoid'))"
   ]
  },
  {
   "cell_type": "code",
   "execution_count": 7,
   "metadata": {},
   "outputs": [
    {
     "name": "stdout",
     "output_type": "stream",
     "text": [
      "_________________________________________________________________\n",
      "Layer (type)                 Output Shape              Param #   \n",
      "=================================================================\n",
      "conv2d_1 (Conv2D)            (None, 148, 148, 32)      896       \n",
      "_________________________________________________________________\n",
      "max_pooling2d_1 (MaxPooling2 (None, 74, 74, 32)        0         \n",
      "_________________________________________________________________\n",
      "conv2d_2 (Conv2D)            (None, 72, 72, 64)        18496     \n",
      "_________________________________________________________________\n",
      "max_pooling2d_2 (MaxPooling2 (None, 36, 36, 64)        0         \n",
      "_________________________________________________________________\n",
      "conv2d_3 (Conv2D)            (None, 34, 34, 128)       73856     \n",
      "_________________________________________________________________\n",
      "max_pooling2d_3 (MaxPooling2 (None, 17, 17, 128)       0         \n",
      "_________________________________________________________________\n",
      "conv2d_4 (Conv2D)            (None, 15, 15, 128)       147584    \n",
      "_________________________________________________________________\n",
      "max_pooling2d_4 (MaxPooling2 (None, 7, 7, 128)         0         \n",
      "_________________________________________________________________\n",
      "flatten_1 (Flatten)          (None, 6272)              0         \n",
      "_________________________________________________________________\n",
      "dense_1 (Dense)              (None, 512)               3211776   \n",
      "_________________________________________________________________\n",
      "dense_2 (Dense)              (None, 1)                 513       \n",
      "=================================================================\n",
      "Total params: 3,453,121\n",
      "Trainable params: 3,453,121\n",
      "Non-trainable params: 0\n",
      "_________________________________________________________________\n"
     ]
    }
   ],
   "source": [
    "model.summary()"
   ]
  },
  {
   "cell_type": "code",
   "execution_count": 8,
   "metadata": {},
   "outputs": [],
   "source": [
    "from keras import optimizers\n",
    "model.compile(loss='binary_crossentropy',\n",
    "optimizer=optimizers.RMSprop(lr=1e-4),\n",
    "metrics=['acc'])\n"
   ]
  },
  {
   "cell_type": "code",
   "execution_count": 9,
   "metadata": {},
   "outputs": [
    {
     "name": "stdout",
     "output_type": "stream",
     "text": [
      "Found 2000 images belonging to 2 classes.\n",
      "Found 1000 images belonging to 2 classes.\n"
     ]
    }
   ],
   "source": [
    "from keras.preprocessing.image import ImageDataGenerator\n",
    "train_datagen = ImageDataGenerator(rescale=1./255)\n",
    "test_datagen = ImageDataGenerator(rescale=1./255)\n",
    "train_generator = train_datagen.flow_from_directory(\n",
    "    train_dir,\n",
    "    target_size=(150, 150),\n",
    "    batch_size=20,\n",
    "    class_mode='binary')\n",
    "validation_generator = test_datagen.flow_from_directory(\n",
    "validation_dir,\n",
    "    target_size=(150, 150),\n",
    "batch_size=20,\n",
    "class_mode='binary')"
   ]
  },
  {
   "cell_type": "code",
   "execution_count": 10,
   "metadata": {},
   "outputs": [
    {
     "name": "stdout",
     "output_type": "stream",
     "text": [
      "Epoch 1/30\n",
      "100/100 [==============================] - 139s 1s/step - loss: 0.6963 - acc: 0.5305 - val_loss: 0.6748 - val_acc: 0.6360\n",
      "Epoch 2/30\n",
      "100/100 [==============================] - 136s 1s/step - loss: 0.6626 - acc: 0.6110 - val_loss: 0.6381 - val_acc: 0.6560\n",
      "Epoch 3/30\n",
      "100/100 [==============================] - 132s 1s/step - loss: 0.6198 - acc: 0.6590 - val_loss: 0.6079 - val_acc: 0.6890\n",
      "Epoch 4/30\n",
      "100/100 [==============================] - 132s 1s/step - loss: 0.5748 - acc: 0.6990 - val_loss: 0.5854 - val_acc: 0.6980\n",
      "Epoch 5/30\n",
      "100/100 [==============================] - 133s 1s/step - loss: 0.5533 - acc: 0.7270 - val_loss: 0.5828 - val_acc: 0.6950\n",
      "Epoch 6/30\n",
      "100/100 [==============================] - 135s 1s/step - loss: 0.5168 - acc: 0.7475 - val_loss: 0.5774 - val_acc: 0.7110\n",
      "Epoch 7/30\n",
      "100/100 [==============================] - 134s 1s/step - loss: 0.4865 - acc: 0.7775 - val_loss: 0.5471 - val_acc: 0.7190\n",
      "Epoch 8/30\n",
      "100/100 [==============================] - 133s 1s/step - loss: 0.4632 - acc: 0.7815 - val_loss: 0.5975 - val_acc: 0.6830\n",
      "Epoch 9/30\n",
      "100/100 [==============================] - 137s 1s/step - loss: 0.4318 - acc: 0.8015 - val_loss: 0.5694 - val_acc: 0.7130\n",
      "Epoch 10/30\n",
      "100/100 [==============================] - 133s 1s/step - loss: 0.4091 - acc: 0.8135 - val_loss: 0.6444 - val_acc: 0.6700\n",
      "Epoch 11/30\n",
      "100/100 [==============================] - 139s 1s/step - loss: 0.3752 - acc: 0.8385 - val_loss: 0.5570 - val_acc: 0.7270\n",
      "Epoch 12/30\n",
      "100/100 [==============================] - 135s 1s/step - loss: 0.3592 - acc: 0.8500 - val_loss: 0.6131 - val_acc: 0.6980\n",
      "Epoch 13/30\n",
      "100/100 [==============================] - 133s 1s/step - loss: 0.3317 - acc: 0.8615 - val_loss: 0.5751 - val_acc: 0.7350\n",
      "Epoch 14/30\n",
      "100/100 [==============================] - 135s 1s/step - loss: 0.3013 - acc: 0.8770 - val_loss: 0.5847 - val_acc: 0.7210\n",
      "Epoch 15/30\n",
      "100/100 [==============================] - 134s 1s/step - loss: 0.2852 - acc: 0.8860 - val_loss: 0.6440 - val_acc: 0.7030\n",
      "Epoch 16/30\n",
      "100/100 [==============================] - 133s 1s/step - loss: 0.2558 - acc: 0.8985 - val_loss: 0.6039 - val_acc: 0.7230\n",
      "Epoch 17/30\n",
      "100/100 [==============================] - 123s 1s/step - loss: 0.2357 - acc: 0.9070 - val_loss: 0.6213 - val_acc: 0.7180\n",
      "Epoch 18/30\n",
      "100/100 [==============================] - 124s 1s/step - loss: 0.2095 - acc: 0.9220 - val_loss: 0.6255 - val_acc: 0.7400\n",
      "Epoch 19/30\n",
      "100/100 [==============================] - 118s 1s/step - loss: 0.1919 - acc: 0.9245 - val_loss: 0.6402 - val_acc: 0.7340\n",
      "Epoch 20/30\n",
      "100/100 [==============================] - 119s 1s/step - loss: 0.1634 - acc: 0.9430 - val_loss: 0.6787 - val_acc: 0.7280\n",
      "Epoch 21/30\n",
      "100/100 [==============================] - 118s 1s/step - loss: 0.1488 - acc: 0.9490 - val_loss: 0.7175 - val_acc: 0.7060\n",
      "Epoch 22/30\n",
      "100/100 [==============================] - 118s 1s/step - loss: 0.1348 - acc: 0.9540 - val_loss: 0.7679 - val_acc: 0.7230\n",
      "Epoch 23/30\n",
      "100/100 [==============================] - 118s 1s/step - loss: 0.1127 - acc: 0.9690 - val_loss: 0.7749 - val_acc: 0.7190\n",
      "Epoch 24/30\n",
      "100/100 [==============================] - 118s 1s/step - loss: 0.0983 - acc: 0.9675 - val_loss: 0.8654 - val_acc: 0.7050\n",
      "Epoch 25/30\n",
      "100/100 [==============================] - 119s 1s/step - loss: 0.0835 - acc: 0.9750 - val_loss: 0.8431 - val_acc: 0.7130\n",
      "Epoch 26/30\n",
      "100/100 [==============================] - 117s 1s/step - loss: 0.0730 - acc: 0.9805 - val_loss: 1.0088 - val_acc: 0.7020\n",
      "Epoch 27/30\n",
      "100/100 [==============================] - 118s 1s/step - loss: 0.0644 - acc: 0.9845 - val_loss: 0.8817 - val_acc: 0.7190\n",
      "Epoch 28/30\n",
      "100/100 [==============================] - 118s 1s/step - loss: 0.0526 - acc: 0.9885 - val_loss: 0.9108 - val_acc: 0.7220\n",
      "Epoch 29/30\n",
      "100/100 [==============================] - 127s 1s/step - loss: 0.0408 - acc: 0.9885 - val_loss: 1.1734 - val_acc: 0.7010\n",
      "Epoch 30/30\n",
      "100/100 [==============================] - 150s 2s/step - loss: 0.0362 - acc: 0.9900 - val_loss: 1.1224 - val_acc: 0.7250\n"
     ]
    }
   ],
   "source": [
    "history = model.fit_generator(\n",
    "    train_generator,\n",
    "    steps_per_epoch=100,\n",
    "    epochs=30,\n",
    "    validation_data=validation_generator,\n",
    "    validation_steps=50)"
   ]
  },
  {
   "cell_type": "code",
   "execution_count": 12,
   "metadata": {},
   "outputs": [],
   "source": [
    "model.save('cats_and_dogs_small_1.h5')"
   ]
  },
  {
   "cell_type": "code",
   "execution_count": null,
   "metadata": {},
   "outputs": [],
   "source": []
  }
 ],
 "metadata": {
  "kernelspec": {
   "display_name": "Python 3",
   "language": "python",
   "name": "python3"
  },
  "language_info": {
   "codemirror_mode": {
    "name": "ipython",
    "version": 3
   },
   "file_extension": ".py",
   "mimetype": "text/x-python",
   "name": "python",
   "nbconvert_exporter": "python",
   "pygments_lexer": "ipython3",
   "version": "3.6.5"
  }
 },
 "nbformat": 4,
 "nbformat_minor": 2
}
